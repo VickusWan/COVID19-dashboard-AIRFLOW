{
 "cells": [
  {
   "cell_type": "code",
   "execution_count": 1,
   "metadata": {},
   "outputs": [],
   "source": [
    "import pandas as pd\n",
    "\n",
    "cases = pd.read_csv(r\"C:\\Users\\Victor\\DAG\\gh\\Covid19Canada\\timeseries_prov\\cases_timeseries_prov.csv\")"
   ]
  },
  {
   "cell_type": "code",
   "execution_count": 3,
   "metadata": {},
   "outputs": [
    {
     "data": {
      "text/plain": [
       "array(['Alberta', 'BC', 'Manitoba', 'New Brunswick', 'NL', 'Nova Scotia',\n",
       "       'Nunavut', 'NWT', 'Ontario', 'PEI', 'Quebec', 'Repatriated',\n",
       "       'Saskatchewan', 'Yukon'], dtype=object)"
      ]
     },
     "execution_count": 3,
     "metadata": {},
     "output_type": "execute_result"
    }
   ],
   "source": [
    "cases['province'].unique()"
   ]
  },
  {
   "cell_type": "code",
   "execution_count": 5,
   "metadata": {},
   "outputs": [
    {
     "data": {
      "text/html": [
       "<div>\n",
       "<style scoped>\n",
       "    .dataframe tbody tr th:only-of-type {\n",
       "        vertical-align: middle;\n",
       "    }\n",
       "\n",
       "    .dataframe tbody tr th {\n",
       "        vertical-align: top;\n",
       "    }\n",
       "\n",
       "    .dataframe thead th {\n",
       "        text-align: right;\n",
       "    }\n",
       "</style>\n",
       "<table border=\"1\" class=\"dataframe\">\n",
       "  <thead>\n",
       "    <tr style=\"text-align: right;\">\n",
       "      <th></th>\n",
       "      <th>province</th>\n",
       "      <th>date_report</th>\n",
       "      <th>cases</th>\n",
       "      <th>cumulative_cases</th>\n",
       "    </tr>\n",
       "  </thead>\n",
       "  <tbody>\n",
       "    <tr>\n",
       "      <th>4110</th>\n",
       "      <td>Quebec</td>\n",
       "      <td>25-01-2020</td>\n",
       "      <td>0</td>\n",
       "      <td>0</td>\n",
       "    </tr>\n",
       "    <tr>\n",
       "      <th>4111</th>\n",
       "      <td>Quebec</td>\n",
       "      <td>26-01-2020</td>\n",
       "      <td>0</td>\n",
       "      <td>0</td>\n",
       "    </tr>\n",
       "    <tr>\n",
       "      <th>4112</th>\n",
       "      <td>Quebec</td>\n",
       "      <td>27-01-2020</td>\n",
       "      <td>0</td>\n",
       "      <td>0</td>\n",
       "    </tr>\n",
       "    <tr>\n",
       "      <th>4113</th>\n",
       "      <td>Quebec</td>\n",
       "      <td>28-01-2020</td>\n",
       "      <td>0</td>\n",
       "      <td>0</td>\n",
       "    </tr>\n",
       "    <tr>\n",
       "      <th>4114</th>\n",
       "      <td>Quebec</td>\n",
       "      <td>29-01-2020</td>\n",
       "      <td>0</td>\n",
       "      <td>0</td>\n",
       "    </tr>\n",
       "    <tr>\n",
       "      <th>...</th>\n",
       "      <td>...</td>\n",
       "      <td>...</td>\n",
       "      <td>...</td>\n",
       "      <td>...</td>\n",
       "    </tr>\n",
       "    <tr>\n",
       "      <th>4516</th>\n",
       "      <td>Quebec</td>\n",
       "      <td>06-03-2021</td>\n",
       "      <td>749</td>\n",
       "      <td>291924</td>\n",
       "    </tr>\n",
       "    <tr>\n",
       "      <th>4517</th>\n",
       "      <td>Quebec</td>\n",
       "      <td>07-03-2021</td>\n",
       "      <td>707</td>\n",
       "      <td>292631</td>\n",
       "    </tr>\n",
       "    <tr>\n",
       "      <th>4518</th>\n",
       "      <td>Quebec</td>\n",
       "      <td>08-03-2021</td>\n",
       "      <td>579</td>\n",
       "      <td>293210</td>\n",
       "    </tr>\n",
       "    <tr>\n",
       "      <th>4519</th>\n",
       "      <td>Quebec</td>\n",
       "      <td>09-03-2021</td>\n",
       "      <td>650</td>\n",
       "      <td>293860</td>\n",
       "    </tr>\n",
       "    <tr>\n",
       "      <th>4520</th>\n",
       "      <td>Quebec</td>\n",
       "      <td>10-03-2021</td>\n",
       "      <td>792</td>\n",
       "      <td>294652</td>\n",
       "    </tr>\n",
       "  </tbody>\n",
       "</table>\n",
       "<p>411 rows × 4 columns</p>\n",
       "</div>"
      ],
      "text/plain": [
       "     province date_report  cases  cumulative_cases\n",
       "4110   Quebec  25-01-2020      0                 0\n",
       "4111   Quebec  26-01-2020      0                 0\n",
       "4112   Quebec  27-01-2020      0                 0\n",
       "4113   Quebec  28-01-2020      0                 0\n",
       "4114   Quebec  29-01-2020      0                 0\n",
       "...       ...         ...    ...               ...\n",
       "4516   Quebec  06-03-2021    749            291924\n",
       "4517   Quebec  07-03-2021    707            292631\n",
       "4518   Quebec  08-03-2021    579            293210\n",
       "4519   Quebec  09-03-2021    650            293860\n",
       "4520   Quebec  10-03-2021    792            294652\n",
       "\n",
       "[411 rows x 4 columns]"
      ]
     },
     "execution_count": 5,
     "metadata": {},
     "output_type": "execute_result"
    }
   ],
   "source": [
    "qc = cases.loc[cases['province']=='Quebec']\n",
    "qc"
   ]
  },
  {
   "cell_type": "code",
   "execution_count": 8,
   "metadata": {},
   "outputs": [
    {
     "data": {
      "text/plain": [
       "4110    25-01-2020\n",
       "4111    26-01-2020\n",
       "4112    27-01-2020\n",
       "4113    28-01-2020\n",
       "4114    29-01-2020\n",
       "4115    30-01-2020\n",
       "4116    31-01-2020\n",
       "4117    01-02-2020\n",
       "4118    02-02-2020\n",
       "4119    03-02-2020\n",
       "4120    04-02-2020\n",
       "4121    05-02-2020\n",
       "4122    06-02-2020\n",
       "4123    07-02-2020\n",
       "4124    08-02-2020\n",
       "4125    09-02-2020\n",
       "4126    10-02-2020\n",
       "4127    11-02-2020\n",
       "4128    12-02-2020\n",
       "4129    13-02-2020\n",
       "4130    14-02-2020\n",
       "4131    15-02-2020\n",
       "4132    16-02-2020\n",
       "4133    17-02-2020\n",
       "4134    18-02-2020\n",
       "4135    19-02-2020\n",
       "4136    20-02-2020\n",
       "4137    21-02-2020\n",
       "4138    22-02-2020\n",
       "4139    23-02-2020\n",
       "4140    24-02-2020\n",
       "4141    25-02-2020\n",
       "4142    26-02-2020\n",
       "4143    27-02-2020\n",
       "4144    28-02-2020\n",
       "4145    29-02-2020\n",
       "4146    01-03-2020\n",
       "4147    02-03-2020\n",
       "4148    03-03-2020\n",
       "4149    04-03-2020\n",
       "4150    05-03-2020\n",
       "4151    06-03-2020\n",
       "4152    07-03-2020\n",
       "4153    08-03-2020\n",
       "4154    09-03-2020\n",
       "4155    10-03-2020\n",
       "4156    11-03-2020\n",
       "4157    12-03-2020\n",
       "4158    13-03-2020\n",
       "4159    14-03-2020\n",
       "Name: date_report, dtype: object"
      ]
     },
     "execution_count": 8,
     "metadata": {},
     "output_type": "execute_result"
    }
   ],
   "source": [
    "qc['date_report'].head(50)"
   ]
  },
  {
   "cell_type": "code",
   "execution_count": null,
   "metadata": {},
   "outputs": [],
   "source": []
  }
 ],
 "metadata": {
  "kernelspec": {
   "display_name": "Python 3",
   "language": "python",
   "name": "python3"
  },
  "language_info": {
   "codemirror_mode": {
    "name": "ipython",
    "version": 3
   },
   "file_extension": ".py",
   "mimetype": "text/x-python",
   "name": "python",
   "nbconvert_exporter": "python",
   "pygments_lexer": "ipython3",
   "version": "3.8.3"
  }
 },
 "nbformat": 4,
 "nbformat_minor": 4
}
